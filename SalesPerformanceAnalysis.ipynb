{
 "cells": [
  {
   "metadata": {},
   "cell_type": "code",
   "source": [
    "import pandas as pd\n",
    "from sqlalchemy import create_engine, text\n",
    "\n",
    "#connecting DB details\n",
    "DB_USERNAME=\"postgres\"\n",
    "DB_PASSWORD=\"Adiseshan1505\"\n",
    "DB_HOST=\"localhost\"\n",
    "DB_PORT=\"5432\"\n",
    "DB_NAME=\"sales_db\"\n",
    "\n",
    "#creating engine\n",
    "engine=create_engine(f\"postgresql+psycopg2://{DB_USERNAME}:{DB_PASSWORD}@{DB_HOST}:{DB_PORT}/{DB_NAME}\")\n",
    "\n",
    "#entering POSQL queries for creation of tables\n",
    "#tables customers and sales\n",
    "createTablesQuery=\"\"\"\n",
    "create table if not exists customers(customer_id serial primary key, customer_name varchar(100), region varchar(50), age int);\n",
    "\n",
    "create table if not exists sales(sale_id serial primary key, customer_id int references customers(customer_id), product varchar(100), quantity int, price decimal(10,2), sale_date date);\n",
    "\n",
    "create table if not exists products (product_id serial primary key, product_name varchar(100), category varchar(50));\n",
    "\"\"\"\n",
    "\n",
    "#connecting the engine for the creation queries\n",
    "with engine.connect() as conn:\n",
    "    conn.execute(text(createTablesQuery))\n",
    "    conn.commit()\n"
   ],
   "id": "1bbaeab82e787be4",
   "outputs": [],
   "execution_count": null
  },
  {
   "metadata": {},
   "cell_type": "code",
   "source": [
    "#entering POSQL queries for inserting data in both tables\n",
    "insertQueries=\"\"\"\n",
    "    insert into customers (customer_name, region, age) values ('alice johnson', 'north america', 30), ('bob smith', 'europe', 40), ('charlie zhang', 'asia', 35), ('robert monero', 'mexico', 35), ('hector munez', 'usa', 50) on conflict (customer_id) do nothing;\n",
    "\n",
    "    insert into sales (customer_id, product, quantity, price, sale_date) values (1, 'laptop', 2, 50000.00, '2024-02-01'), (2, 'smartphone', 1, 230000.00, '2024-02-05'), (3, 'tablet', 3, 60000.00, '2023-02-10'), (4, 'airpods', 2, 100000.00, '2022-05-10'), (5, 'speakers', 1, 30000.00, '2024-03-12') on conflict (sale_id) do nothing;\n",
    "\n",
    "    insert into products (product_name, category) values ('laptop', 'electronics'), ('smartphone', 'electronics'), ('tablet', 'electronics'), ('airpods', 'accessories'), ('speakers', 'accessories');\n",
    "\"\"\"\n",
    "#connecting the engine for the insertion queries\n",
    "with engine.connect() as conn:\n",
    "    conn.execute(text(insertQueries))\n",
    "    conn.commit()"
   ],
   "id": "1cd76b5450fdb84a",
   "outputs": [],
   "execution_count": null
  },
  {
   "metadata": {},
   "cell_type": "code",
   "source": [
    "#Loading the data into Pandas dataframe\n",
    "dfCustomers=pd.read_sql(\"select * from customers;\", engine)\n",
    "dfSales=pd.read_sql(\"select * from sales;\", engine)\n",
    "dfProducts=pd.read_sql(\"select * from products;\", engine)\n",
    "\n",
    "#returning the head of both the customer and sales dataframe\n",
    "print(\"Customers Table:\\n\",dfCustomers.head())\n",
    "print(\"Sales Table:\\n\",dfSales.head())\n",
    "print(\"Products Table:\\n\",dfProducts.head())"
   ],
   "id": "66378c8ede17b30c",
   "outputs": [],
   "execution_count": null
  },
  {
   "metadata": {},
   "cell_type": "code",
   "source": [
    "#Total Revenue Calculation\n",
    "dfSales[\"total_revenue\"]=dfSales[\"quantity\"]*dfSales[\"price\"]\n",
    "total_revenue=dfSales[\"total_revenue\"].sum()\n",
    "print(f\"Total revenue from the sales dataset is:- {total_revenue}\")"
   ],
   "id": "e199fb4059b2a028",
   "outputs": [],
   "execution_count": null
  },
  {
   "metadata": {},
   "cell_type": "code",
   "source": [
    "# Step 6: Merge Data for Power BI Export\n",
    "df_merged = df_sales.merge(df_customers, on=\"customer_id\", how=\"left\")\n",
    "df_merged[\"total_revenue\"] = df_merged[\"quantity\"] * df_merged[\"price\"]\n",
    "df_merged.to_csv(\"sales_report.csv\", index=False)\n",
    "print(\"Data exported to sales_report.csv for Power BI visualization!\")\n"
   ],
   "id": "d03ecfca6ce5f1cc",
   "outputs": [],
   "execution_count": null
  },
  {
   "metadata": {},
   "cell_type": "code",
   "source": [
    "#total sales by region\n",
    "total_sales_by_region = df_merged.groupby(\"region\")[\"total_revenue\"].sum()\n",
    "print(\"Total Sales by Region:\\n\", total_sales_by_region)\n",
    "\n",
    "#customer segmentation based on spending\n",
    "customer_spending = df_merged.groupby('customer_name')['total_revenue'].sum()\n",
    "print(\"Customer Spending:\\n\", customer_spending)"
   ],
   "id": "6b6a587b8025f64f",
   "outputs": [],
   "execution_count": null
  },
  {
   "metadata": {},
   "cell_type": "code",
   "source": [
    "#Cleaning the data:-\n",
    "# Check for missing values\n",
    "missing_data = df_merged.isnull().sum()\n",
    "print(\"Missing Data:\\n\", missing_data)\n",
    "\n",
    "# Remove duplicate records\n",
    "df_merged.drop_duplicates(inplace=True)\n"
   ],
   "id": "904047a6479a22f8",
   "outputs": [],
   "execution_count": null
  }
 ],
 "metadata": {
  "kernelspec": {
   "display_name": "Python 3",
   "language": "python",
   "name": "python3"
  },
  "language_info": {
   "codemirror_mode": {
    "name": "ipython",
    "version": 2
   },
   "file_extension": ".py",
   "mimetype": "text/x-python",
   "name": "python",
   "nbconvert_exporter": "python",
   "pygments_lexer": "ipython2",
   "version": "2.7.6"
  }
 },
 "nbformat": 4,
 "nbformat_minor": 5
}
